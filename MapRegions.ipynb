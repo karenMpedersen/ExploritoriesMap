{
 "cells": [
  {
   "cell_type": "markdown",
   "metadata": {},
   "source": [
    "### Base Map Exploritories\n",
    "\n",
    "basefiles for the world and Germany  from https://www.naturalearthdata.com/downloads/110m-cultural-vectors/\n",
    "\n",
    "Study specific infromation from https://www.bexis.uni-jena.de/ddm/data/Showdata/31234?version=15"
   ]
  },
  {
   "cell_type": "code",
   "execution_count": 34,
   "metadata": {},
   "outputs": [],
   "source": [
    "import geopandas as gpd\n",
    "import tkinter as tk\n",
    "import matplotlib\n",
    "#matplotlib.use('TkAgg')\n",
    "import matplotlib.pyplot as plt\n",
    "#from matplotlib.backends.backend_agg import FigureCanvasAgg as FigureCanvas\n",
    "#from matplotlib.figure import Figure\n",
    "import contextily as ctx\n",
    "import pandas as pd\n",
    "from shapely.geometry import Point\n",
    "\n",
    "# Use the Agg backend for non-interactive plotting\n",
    "matplotlib.use('Agg')\n",
    "\n",
    "# Load the Natural Earth dataset from the extracted directory\n",
    "world = gpd.read_file('ne_110m_admin_0_countries/ne_110m_admin_0_countries.shp')\n"
   ]
  },
  {
   "cell_type": "markdown",
   "metadata": {},
   "source": [
    "## Plot the world Map"
   ]
  },
  {
   "cell_type": "code",
   "execution_count": 2,
   "metadata": {},
   "outputs": [
    {
     "name": "stderr",
     "output_type": "stream",
     "text": [
      "/tmp/ipykernel_4733/872582141.py:3: UserWarning: FigureCanvasAgg is non-interactive, and thus cannot be shown\n",
      "  plt.show()\n"
     ]
    }
   ],
   "source": [
    "# Plot the world map\n",
    "world.plot()\n",
    "plt.show()\n",
    "\n",
    "plt.savefig('/home/hal/Documents/GitHub/ExploritoriesMap/Figures/world.png')"
   ]
  },
  {
   "cell_type": "markdown",
   "metadata": {},
   "source": [
    "Now Plot Germany"
   ]
  },
  {
   "cell_type": "code",
   "execution_count": 16,
   "metadata": {},
   "outputs": [
    {
     "name": "stdout",
     "output_type": "stream",
     "text": [
      "Index(['featurecla', 'scalerank', 'LABELRANK', 'SOVEREIGNT', 'SOV_A3',\n",
      "       'ADM0_DIF', 'LEVEL', 'TYPE', 'TLC', 'ADMIN',\n",
      "       ...\n",
      "       'FCLASS_TR', 'FCLASS_ID', 'FCLASS_PL', 'FCLASS_GR', 'FCLASS_IT',\n",
      "       'FCLASS_NL', 'FCLASS_SE', 'FCLASS_BD', 'FCLASS_UA', 'geometry'],\n",
      "      dtype='object', length=169)\n"
     ]
    },
    {
     "name": "stderr",
     "output_type": "stream",
     "text": [
      "/tmp/ipykernel_4733/1994943784.py:8: UserWarning: FigureCanvasAgg is non-interactive, and thus cannot be shown\n",
      "  plt.show()\n"
     ]
    }
   ],
   "source": [
    "print(world.columns)\n",
    "germany = world[world['NAME'] == 'Germany']\n",
    "# Ensure Germany is in the same CRS (WGS84)\n",
    "germany = germany.to_crs(epsg=3857)\n",
    "\n",
    "# Plot Germany\n",
    "germany.plot()\n",
    "plt.show()\n",
    "\n",
    "plt.savefig('/home/hal/Documents/GitHub/ExploritoriesMap/Figures/germany.png')"
   ]
  },
  {
   "cell_type": "code",
   "execution_count": 38,
   "metadata": {},
   "outputs": [
    {
     "name": "stderr",
     "output_type": "stream",
     "text": [
      "/tmp/ipykernel_4733/2459745946.py:18: UserWarning: FigureCanvasAgg is non-interactive, and thus cannot be shown\n",
      "  plt.show()\n"
     ]
    }
   ],
   "source": [
    "#define background\n",
    "ax = germany.plot()\n",
    "## Read in the project specific files\n",
    "alb = gpd.read_file(\"Boarders/Exploratorium_alb.gpkg\")\n",
    "hai = gpd.read_file(\"Boarders/Exploratorium_hai.gpkg\")\n",
    "sch = gpd.read_file(\"Boarders/Exploratorium_sch.gpkg\")\n",
    "\n",
    "# Ensure all GeoPackages are in the same CRS (WGS84)\n",
    "alb = alb.to_crs(epsg=3857)\n",
    "hai = hai.to_crs(epsg=3857)\n",
    "sch = sch.to_crs(epsg=3857)\n",
    "\n",
    "# Plot Regions\n",
    "alb.plot(ax=ax, color=\"red\")\n",
    "hai.plot(ax=ax, color=\"blue\")\n",
    "sch.plot(ax=ax, color=\"green\")\n",
    "\n",
    "plt.show()\n",
    "\n",
    "plt.savefig('/home/hal/Documents/GitHub/ExploritoriesMap/Figures/regions.png')"
   ]
  },
  {
   "cell_type": "markdown",
   "metadata": {},
   "source": [
    "Zoom into on region"
   ]
  },
  {
   "cell_type": "code",
   "execution_count": 39,
   "metadata": {},
   "outputs": [
    {
     "name": "stderr",
     "output_type": "stream",
     "text": [
      "/tmp/ipykernel_4733/1125940424.py:2: UserWarning: FigureCanvasAgg is non-interactive, and thus cannot be shown\n",
      "  plt.show()\n"
     ]
    }
   ],
   "source": [
    "ax2 = hai.plot(edgecolor='black', facecolor='none')\n",
    "plt.show()\n",
    "\n",
    "plt.savefig('/home/hal/Documents/GitHub/ExploritoriesMap/Figures/hai.png')"
   ]
  },
  {
   "cell_type": "markdown",
   "metadata": {},
   "source": [
    "# Now with Satellight images"
   ]
  },
  {
   "cell_type": "code",
   "execution_count": 47,
   "metadata": {},
   "outputs": [
    {
     "name": "stderr",
     "output_type": "stream",
     "text": [
      "/tmp/ipykernel_4733/2994069486.py:10: UserWarning: FigureCanvasAgg is non-interactive, and thus cannot be shown\n",
      "  plt.show()\n"
     ]
    }
   ],
   "source": [
    "# Add a background map\n",
    "# Plot only the hai region\n",
    "ax2 = hai.plot(edgecolor='white', facecolor='none')\n",
    "# Add a background map\n",
    "ctx.add_basemap(ax2, source=ctx.providers.Esri.WorldImagery)\n",
    "\n",
    "# Add text to the hai plot\n",
    "ax2.text(x=1.15, y=6.69, s=\"Hai Region\", fontsize=12, color=\"blue\")\n",
    "\n",
    "plt.show()\n",
    "\n",
    "plt.savefig('/home/hal/Documents/GitHub/ExploritoriesMap/Figures/hai_background.png')"
   ]
  },
  {
   "cell_type": "markdown",
   "metadata": {},
   "source": [
    "Now add the study sites"
   ]
  },
  {
   "cell_type": "code",
   "execution_count": 65,
   "metadata": {},
   "outputs": [
    {
     "name": "stdout",
     "output_type": "stream",
     "text": [
      "  Plot_ID EP_Plot_ID Exploratory  Latitude  Longitude VIP  MIP    Landuse  \\\n",
      "0    S999      SEG22         SCH     53.10      13.97  no  yes  Grassland   \n",
      "1  A19737         na         ALB     48.38       9.34  no   no     Forest   \n",
      "2  A21173         na         ALB     48.38       9.35  no   no     Forest   \n",
      "3  A21787         na         ALB     48.39       9.36  no   no     Forest   \n",
      "4  A24620         na         ALB     48.36       9.38  no   no     Forest   \n",
      "\n",
      "  Soil_Type_German Soil_Type_WRB Main_Tree_Species  \n",
      "0             Gley       Gleysol                na  \n",
      "1               nd            nd                nd  \n",
      "2               nd            nd                nd  \n",
      "3               nd            nd                nd  \n",
      "4               nd            nd                nd  \n",
      "Index(['Plot_ID', 'EP_Plot_ID', 'Exploratory', 'Latitude', 'Longitude', 'VIP',\n",
      "       'MIP', 'Landuse', 'Soil_Type_German', 'Soil_Type_WRB',\n",
      "       'Main_Tree_Species'],\n",
      "      dtype='object')\n"
     ]
    },
    {
     "name": "stderr",
     "output_type": "stream",
     "text": [
      "/tmp/ipykernel_4733/500363534.py:55: UserWarning: FigureCanvasAgg is non-interactive, and thus cannot be shown\n",
      "  plt.show()\n"
     ]
    }
   ],
   "source": [
    "import geopandas as gpd\n",
    "import pandas as pd\n",
    "import contextily as ctx\n",
    "import matplotlib.pyplot as plt\n",
    "\n",
    "# Read in the site data from a CSV file\n",
    "sites = pd.read_csv('Sites/1000_10_data.csv')\n",
    "\n",
    "# Print the first few rows of the DataFrame\n",
    "print(sites.head())\n",
    "\n",
    "# Print the column names to check for any trailing spaces or different names\n",
    "print(sites.columns)\n",
    "\n",
    "# Filter the DataFrame to get only the sites in the 'HAI' exploratory\n",
    "hai_sites = sites[sites['Exploratory'] == 'HAI']\n",
    "\n",
    "# Further filter the sites into forest and grassland\n",
    "forest_sites = hai_sites[hai_sites['Landuse'] == 'Forest']\n",
    "grassland_sites = hai_sites[hai_sites['Landuse'] == 'Grassland']\n",
    "\n",
    "# Create GeoDataFrames from the filtered sites DataFrames\n",
    "forest_gdf = gpd.GeoDataFrame(forest_sites, geometry=gpd.points_from_xy(forest_sites.Longitude, forest_sites.Latitude))\n",
    "grassland_gdf = gpd.GeoDataFrame(grassland_sites, geometry=gpd.points_from_xy(grassland_sites.Longitude, grassland_sites.Latitude))\n",
    "\n",
    "# Set the initial CRS (assuming the coordinates are in WGS84)\n",
    "forest_gdf.set_crs(epsg=4326, inplace=True)\n",
    "grassland_gdf.set_crs(epsg=4326, inplace=True)\n",
    "\n",
    "# Reproject to EPSG:3857\n",
    "forest_gdf = forest_gdf.to_crs(epsg=3857)\n",
    "grassland_gdf = grassland_gdf.to_crs(epsg=3857)\n",
    "\n",
    "# Read in the project specific file for the HAI region\n",
    "hai = gpd.read_file(\"Boarders/Exploratorium_hai.gpkg\")\n",
    "\n",
    "# Ensure the GeoPackage is in the same CRS (EPSG:3857)\n",
    "hai = hai.to_crs(epsg=3857)\n",
    "\n",
    "# Plot the hai region\n",
    "ax = hai.plot(edgecolor='white', facecolor='none')\n",
    "\n",
    "# Plot the forest sites with light gray triangles\n",
    "forest_gdf.plot(ax=ax, color='black', markersize=5, marker='^', label='Forest Sites')\n",
    "\n",
    "# Plot the grassland sites with light gray circles\n",
    "grassland_gdf.plot(ax=ax, color='black', markersize=5, marker='o', label='Grassland Sites')\n",
    "\n",
    "# Add a background map\n",
    "ctx.add_basemap(ax, source=ctx.providers.Esri.WorldImagery)\n",
    "\n",
    "# Add the legend\n",
    "plt.legend(loc='upper right')\n",
    "\n",
    "plt.show()\n",
    "\n",
    "plt.savefig('/home/hal/Documents/GitHub/ExploritoriesMap/Figures/hai_sites_background.png')"
   ]
  }
 ],
 "metadata": {
  "kernelspec": {
   "display_name": ".venv",
   "language": "python",
   "name": "python3"
  },
  "language_info": {
   "codemirror_mode": {
    "name": "ipython",
    "version": 3
   },
   "file_extension": ".py",
   "mimetype": "text/x-python",
   "name": "python",
   "nbconvert_exporter": "python",
   "pygments_lexer": "ipython3",
   "version": "3.12.3"
  }
 },
 "nbformat": 4,
 "nbformat_minor": 2
}
