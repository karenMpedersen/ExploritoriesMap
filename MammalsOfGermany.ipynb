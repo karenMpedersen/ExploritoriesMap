{
 "cells": [
  {
   "cell_type": "markdown",
   "id": "4059c93c",
   "metadata": {},
   "source": [
    "### Mammals of Germany\n",
    "\n",
    "Creating a possible list of mammal species for Germany. Then gather their referance data from NCBI \n",
    "\n",
    "1) get mammal list wikipedia\n",
    "2) get basic information for gifbio\n",
    "3) get data from NCBI"
   ]
  },
  {
   "cell_type": "code",
   "execution_count": null,
   "id": "636bee54",
   "metadata": {},
   "outputs": [],
   "source": [
    "# Libraries\n",
    "import requests\n",
    "import pandas as pd\n",
    "from bs4 import  BeautifulSoup\n",
    "from io import StringIO\n",
    "#import html5lib\n",
    "import re"
   ]
  },
  {
   "cell_type": "code",
   "execution_count": null,
   "id": "ebefc03b",
   "metadata": {},
   "outputs": [],
   "source": [
    "# Request HTML page\n",
    "try:\n",
    "    # Get the page\n",
    "    url = \"https://en.wikipedia.org/wiki/List_of_mammals_of_Germany\"\n",
    "    response = requests.get(url)\n",
    "    response.raise_for_status()  # Check if for request works else will raise an error\n",
    "except requests.exceptions.RequestException as e:\n",
    "    print(f\"Error fetching the page: {e}\") # to display the error\n",
    "print(response)\n",
    "\n",
    "# Parse the HTML content\n",
    "soup = BeautifulSoup(response.text, 'html') # Parse the HTML content\n",
    "#soup = BeautifulSoup(response.text, \"html5lib\")\n",
    "print(BeautifulSoup.__module__)  # Check the module being used\n"
   ]
  },
  {
   "cell_type": "code",
   "execution_count": null,
   "id": "39874d3c",
   "metadata": {},
   "outputs": [],
   "source": []
  }
 ],
 "metadata": {
  "language_info": {
   "name": "python"
  }
 },
 "nbformat": 4,
 "nbformat_minor": 5
}
